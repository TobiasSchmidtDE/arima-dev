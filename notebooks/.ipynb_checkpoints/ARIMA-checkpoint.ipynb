{
 "cells": [
  {
   "cell_type": "markdown",
   "metadata": {},
   "source": [
    "# ARIMA Notebook for test scripts and systemml integration"
   ]
  },
  {
   "cell_type": "markdown",
   "metadata": {},
   "source": [
    "## Load all dependencys"
   ]
  },
  {
   "cell_type": "code",
   "execution_count": 1,
   "metadata": {},
   "outputs": [],
   "source": [
    "import matplotlib.pyplot as plt\n",
    "import math\n",
    "import numpy as np\n",
    "import pandas as pd\n",
    "from systemml import MLContext, dml\n",
    "from pathlib import Path\n",
    "\n",
    "%matplotlib inline\n",
    "%config INlineBackend.figure_format = 'svg'\n"
   ]
  },
  {
   "cell_type": "markdown",
   "metadata": {},
   "source": [
    "## Check if systemml integration worked"
   ]
  },
  {
   "cell_type": "code",
   "execution_count": 2,
   "metadata": {},
   "outputs": [
    {
     "data": {
      "text/plain": [
       "'2.3.0'"
      ]
     },
     "execution_count": 2,
     "metadata": {},
     "output_type": "execute_result"
    }
   ],
   "source": [
    "sc.version"
   ]
  },
  {
   "cell_type": "code",
   "execution_count": 3,
   "metadata": {},
   "outputs": [
    {
     "name": "stdout",
     "output_type": "stream",
     "text": [
      "Name: systemml\n",
      "Version: 1.1.0\n",
      "Summary: Apache SystemML is a distributed and declarative machine learning platform.\n",
      "Home-page: http://systemml.apache.org/\n",
      "Author: Apache SystemML\n",
      "Author-email: dev@systemml.apache.org\n",
      "License: Apache 2.0\n",
      "Location: c:\\users\\tobiasschmidt\\anaconda3\\lib\\site-packages\n",
      "Requires: pandas, scikit-learn, numpy, scipy, Pillow\n",
      "Required-by: \n"
     ]
    }
   ],
   "source": [
    "!pip show systemml"
   ]
  },
  {
   "cell_type": "code",
   "execution_count": 4,
   "metadata": {},
   "outputs": [
    {
     "name": "stdout",
     "output_type": "stream",
     "text": [
      "SystemML Version: 1.2.0-SNAPSHOT\n",
      "SystemML Built-Time: 2018-05-24 10:37:09 PDT\n"
     ]
    }
   ],
   "source": [
    "ml = MLContext(sc)\n",
    "\n",
    "print(\"SystemML Version:\", ml.version())\n",
    "print (\"SystemML Built-Time:\", ml.buildTime())"
   ]
  },
  {
   "cell_type": "code",
   "execution_count": 5,
   "metadata": {},
   "outputs": [
    {
     "name": "stdout",
     "output_type": "stream",
     "text": [
      "SystemML Statistics:\n",
      "Total execution time:\t\t0.001 sec.\n",
      "Number of executed Spark inst:\t0.\n",
      "\r\n",
      "\n"
     ]
    },
    {
     "data": {
      "text/plain": [
       "'Hello KDD!'"
      ]
     },
     "execution_count": 5,
     "metadata": {},
     "output_type": "execute_result"
    }
   ],
   "source": [
    "ml.execute(dml(\"\"\"s = 'Hello KDD!'\"\"\").output(\"s\")).get(\"s\")"
   ]
  },
  {
   "cell_type": "markdown",
   "metadata": {},
   "source": [
    "# Constants"
   ]
  },
  {
   "cell_type": "code",
   "execution_count": 6,
   "metadata": {},
   "outputs": [],
   "source": [
    "# path variables\n",
    "path_folder_workdirectory = \"C:/Users/TobiasSchmidt/Desktop/IBM/PE_4/SystemML/\"\n",
    "path_folder_systemml= path_folder_workdirectory + \"systemml/\"\n",
    "path_folder_arimaBoxJenkins= path_folder_systemml + \"src/test/scripts/applications/arima_box-jenkins/\"\n",
    "path_folder_dmlscripts= path_folder_workdirectory + \"dmlscripts/\"\n",
    "path_folder_dmlTestScripts= path_folder_workdirectory + \"dml_test_scripts/\"\n",
    "path_folder_multiHouseholdConsumption = path_folder_dmlTestScripts + \"multiple_household_power_consumption/\"\n",
    "path_folder_IndividualHouseholds = path_folder_multiHouseholdConsumption + \"Individual_Households/\""
   ]
  },
  {
   "cell_type": "markdown",
   "metadata": {},
   "source": [
    "### Files"
   ]
  },
  {
   "cell_type": "markdown",
   "metadata": {},
   "source": [
    "#### Electivity Data Set\n",
    "File is taken from: https://archive.ics.uci.edu/ml/datasets/ElectricityLoadDiagrams20112014 <br>\n",
    "The data set contains electricity consumption of 370 points/clients.<br>\n",
    "Values are in kW of each 15 min"
   ]
  },
  {
   "cell_type": "code",
   "execution_count": 7,
   "metadata": {},
   "outputs": [],
   "source": [
    "filename_individualHouseholdConsMaster_csv = \"ElectricityLoadDiagramm2011_2014-master.csv\"\n",
    "path_file_multiHouseholdConsMaster = path_folder_multiHouseholdConsumption + filename_individualHouseholdConsMaster_csv"
   ]
  },
  {
   "cell_type": "markdown",
   "metadata": {},
   "source": [
    "#### Test Data Set\n",
    "This data set has been generated with [this notebook](http://localhost:8888/notebooks/Desktop/IBM/PE_4/SystemMLTutorial/Python%20Statistic%20Tut.ipynb)"
   ]
  },
  {
   "cell_type": "code",
   "execution_count": 8,
   "metadata": {},
   "outputs": [],
   "source": [
    "filename_testdata_csv = \"pythondump.csv\"\n",
    "path_file_testdata = path_folder_dmlTestScripts + filename_testdata_csv\n",
    "path_file_testdata_backslash = \"C:\\\\\\\\Users\\\\\\\\TobiasSchmidt\\\\\\\\Desktop\\\\\\\\IBM\\\\\\\\PE_4\\\\\\\\SystemML\\\\\\\\dml_test_scripts\\\\\\\\pythondump.csv\""
   ]
  },
  {
   "cell_type": "markdown",
   "metadata": {},
   "source": [
    "#### DML Scripts"
   ]
  },
  {
   "cell_type": "code",
   "execution_count": 9,
   "metadata": {},
   "outputs": [],
   "source": [
    "filename_arima_dml = \"arima.dml\"\n",
    "filename_test_dml = \"test.dml\"\n",
    "\n",
    "path_file_test = path_folder_dmlTestScripts + \"dml/\" + filename_test_dml\n",
    "path_file_originalArima = path_folder_arimaBoxJenkins + filename_arima_dml\n",
    "path_file_modifiedArima = path_folder_dmlscripts + filename_arima_dml\n",
    "\n",
    "testscript = Path(path_file_test).read_text()\n",
    "originalArima = Path(path_file_originalArima).read_text()\n",
    "modifiedArima = Path(path_file_modifiedArima).read_text()"
   ]
  },
  {
   "cell_type": "code",
   "execution_count": 108,
   "metadata": {},
   "outputs": [
    {
     "name": "stdout",
     "output_type": "stream",
     "text": [
      "C:\\\\Users\\\\TobiasSchmidt\\\\Desktop\\\\IBM\\\\PE_4\\\\SystemML\\\\dml_test_scripts\\\\pythondump.csv\n"
     ]
    }
   ],
   "source": []
  },
  {
   "cell_type": "markdown",
   "metadata": {},
   "source": [
    "### Run DML "
   ]
  },
  {
   "cell_type": "markdown",
   "metadata": {},
   "source": [
    "**WARNING**: ```-nvargs```- or ```-args```- on the commandline is not equal to ```ml.execute(...).input()``` <br>\n",
    "Wehn using the commandline version the script can obtain the values of the arguments by either using ```$nvargName``` or ```$argNum```. However, when using *MLContext* with ```.input(varname = value)``` the value is pasted for every occurence of *varname*. <br>\n",
    "**However, there is a solution for this:**<br>\n",
    "When running scripts using the $ reference the inputs for the *MLContext* API can be passed correctly by using: <br>\n",
    "``` ml.execute(dml(...).input(\"$varname1\", value1).input(\"$varname2\",value2)) ```"
   ]
  },
  {
   "cell_type": "markdown",
   "metadata": {},
   "source": [
    "#### Test"
   ]
  },
  {
   "cell_type": "code",
   "execution_count": 10,
   "metadata": {
    "scrolled": true
   },
   "outputs": [
    {
     "name": "stdout",
     "output_type": "stream",
     "text": [
      "SystemML Statistics:\n",
      "Total execution time:\t\t0.134 sec.\n",
      "Number of executed Spark inst:\t0.\n",
      "\n",
      "\n",
      "50.0\n",
      "[[0. 0. 0. 0. 0. 1. 1. 1. 1. 1.]\n",
      " [0. 0. 0. 0. 0. 1. 1. 1. 1. 1.]\n",
      " [0. 0. 0. 0. 0. 1. 1. 1. 1. 1.]\n",
      " [0. 0. 0. 0. 0. 1. 1. 1. 1. 1.]\n",
      " [0. 0. 0. 0. 0. 1. 1. 1. 1. 1.]\n",
      " [0. 0. 0. 0. 0. 1. 1. 1. 1. 1.]\n",
      " [0. 0. 0. 0. 0. 1. 1. 1. 1. 1.]\n",
      " [0. 0. 0. 0. 0. 1. 1. 1. 1. 1.]\n",
      " [0. 0. 0. 0. 0. 1. 1. 1. 1. 1.]\n",
      " [0. 0. 0. 0. 0. 1. 1. 1. 1. 1.]]\n",
      "[[0. 0. 1. 1.]\n",
      " [0. 0. 1. 1.]\n",
      " [0. 0. 1. 1.]\n",
      " [0. 0. 1. 1.]\n",
      " [0. 0. 1. 1.]]\n"
     ]
    }
   ],
   "source": [
    "res = ml.execute(dml(testscript).input(nr=10, nc=2).output('s2', 'R2', 'SR2')) \n",
    "    \n",
    "print (res.get('s2'))\n",
    "print (res.get('R2').toNumPy())\n",
    "print (res.get('SR2').toNumPy())"
   ]
  },
  {
   "cell_type": "markdown",
   "metadata": {},
   "source": [
    "#### Example Code"
   ]
  },
  {
   "cell_type": "markdown",
   "metadata": {},
   "source": [
    "This first programm demonstrates how a user can choose out of predefined functions via nvargs (input parameters) <br>\n",
    "To do this via command line use: ``` sparkDML.sh -f evalfoo.dml --nvargs solver=\"foo1\" optimizer=\"foo2\" ``` "
   ]
  },
  {
   "cell_type": "code",
   "execution_count": 11,
   "metadata": {
    "scrolled": true
   },
   "outputs": [
    {
     "name": "stdout",
     "output_type": "stream",
     "text": [
      "SystemML Statistics:\n",
      "Total execution time:\t\t0.013 sec.\n",
      "Number of executed Spark inst:\t0.\n",
      "\r\n",
      "\n",
      "2.000 3.000\n",
      "4.000 5.000\n",
      "6.000 7.000\n",
      "\n",
      "2.000 3.000\n",
      "4.000 5.000\n",
      "6.000 7.000\n",
      "\n"
     ]
    }
   ],
   "source": [
    "functionArgsExampleProg = \"\"\"\n",
    "foo1 = function (matrix[double] M) return (matrix[double] ret) {\n",
    "  ret = M + 1\n",
    "}\n",
    "foo2 = function (matrix[double] M) return (matrix[double] ret) {\n",
    "  ret = M + 2\n",
    "}\n",
    "M = matrix (\"1 2 3 4 5 6\", rows=3, cols=2)\n",
    "optimizer = $optimizer\n",
    "solver= $solver\n",
    "A = eval(optimizer, M)\n",
    "B = eval(solver, M)\n",
    "OutA = toString(A)\n",
    "OutB = toString(B)\n",
    "\"\"\"\n",
    "res = ml.execute(dml(functionArgsExampleProg).input(\"$optimizer\", \"foo1\").input(\"$solver\", \"foo1\").output(\"OutA\", \"OutB\")) \n",
    "\n",
    "print (res.get('OutA'))\n",
    "print (res.get('OutB'))"
   ]
  },
  {
   "cell_type": "markdown",
   "metadata": {},
   "source": [
    "#### ARIMA"
   ]
  },
  {
   "cell_type": "code",
   "execution_count": 109,
   "metadata": {},
   "outputs": [],
   "source": [
    "#parameters:\n",
    "src = path_file_testdata_backslash\n",
    "max_func_invoc = 200\n",
    "p = 1\n",
    "d = 1\n",
    "q = 1\n",
    "P = 0\n",
    "D = 0\n",
    "Q = 0\n",
    "include_mean = 0\n",
    "use_jacobi = 0"
   ]
  },
  {
   "cell_type": "code",
   "execution_count": 110,
   "metadata": {
    "scrolled": true
   },
   "outputs": [
    {
     "name": "stdout",
     "output_type": "stream",
     "text": [
      "src= C:\\\\Users\\\\TobiasSchmidt\\\\Desktop\\\\IBM\\\\PE_4\\\\SystemML\\\\dml_test_scripts\\\\pythondump.csv\n",
      "arimaDumpFolderC:\\\\Users\\\\TobiasSchmidt\\\\Desktop\\\\IBM\\\\PE_4\\\\SystemML\\\\dml_test_scripts\\\\arimadump\\\\\n",
      "p= 1\n",
      "d= 1\n",
      "q= 1\n",
      "P= 0\n",
      "D= 0\n",
      "Q= 0\n",
      "s= 250\n",
      "include_mean= 0\n",
      "useJacobi= 0\n",
      "nrows of X: 1000\n",
      "170  999.0\n",
      "totcols=3\n",
      "nrow of Y= 999\n",
      "nrows of Z = 999\n",
      "SystemML Statistics:\n",
      "Total execution time:\t\t1.766 sec.\n",
      "Number of executed Spark inst:\t1.\n",
      "\n",
      "\n"
     ]
    },
    {
     "ename": "Py4JJavaError",
     "evalue": "An error occurred while calling o50.execute.\n: org.apache.sysml.api.mlcontext.MLContextException: Exception when executing script\r\n\tat org.apache.sysml.api.mlcontext.MLContext.execute(MLContext.java:346)\r\n\tat org.apache.sysml.api.mlcontext.MLContext.execute(MLContext.java:319)\r\n\tat sun.reflect.NativeMethodAccessorImpl.invoke0(Native Method)\r\n\tat sun.reflect.NativeMethodAccessorImpl.invoke(NativeMethodAccessorImpl.java:62)\r\n\tat sun.reflect.DelegatingMethodAccessorImpl.invoke(DelegatingMethodAccessorImpl.java:43)\r\n\tat java.lang.reflect.Method.invoke(Method.java:498)\r\n\tat py4j.reflection.MethodInvoker.invoke(MethodInvoker.java:244)\r\n\tat py4j.reflection.ReflectionEngine.invoke(ReflectionEngine.java:357)\r\n\tat py4j.Gateway.invoke(Gateway.java:282)\r\n\tat py4j.commands.AbstractCommand.invokeMethod(AbstractCommand.java:132)\r\n\tat py4j.commands.CallCommand.execute(CallCommand.java:79)\r\n\tat py4j.GatewayConnection.run(GatewayConnection.java:214)\r\n\tat java.lang.Thread.run(Thread.java:748)\r\nCaused by: org.apache.sysml.api.mlcontext.MLContextException: Exception occurred while executing runtime program\r\n\tat org.apache.sysml.api.mlcontext.ScriptExecutor.executeRuntimeProgram(ScriptExecutor.java:437)\r\n\tat org.apache.sysml.api.mlcontext.ScriptExecutor.execute(ScriptExecutor.java:353)\r\n\tat org.apache.sysml.api.mlcontext.MLContext.execute(MLContext.java:342)\r\n\t... 12 more\r\nCaused by: org.apache.sysml.runtime.DMLRuntimeException: org.apache.sysml.runtime.DMLRuntimeException: PARFOR: Failed to execute loop in parallel.\r\n\tat org.apache.sysml.runtime.controlprogram.Program.execute(Program.java:123)\r\n\tat org.apache.sysml.api.ScriptExecutorUtils.executeRuntimeProgram(ScriptExecutorUtils.java:97)\r\n\tat org.apache.sysml.api.ScriptExecutorUtils.executeRuntimeProgram(ScriptExecutorUtils.java:52)\r\n\tat org.apache.sysml.api.mlcontext.ScriptExecutor.executeRuntimeProgram(ScriptExecutor.java:435)\r\n\t... 14 more\r\nCaused by: org.apache.sysml.runtime.DMLRuntimeException: PARFOR: Failed to execute loop in parallel.\r\n\tat org.apache.sysml.runtime.controlprogram.ParForProgramBlock.execute(ParForProgramBlock.java:669)\r\n\tat org.apache.sysml.runtime.controlprogram.Program.execute(Program.java:116)\r\n\t... 17 more\r\nCaused by: org.apache.sysml.runtime.DMLRuntimeException: PARFOR: Number of executed tasks does not match the number of created tasks: tasks 1/3, iters 1/3.\r\n\tat org.apache.sysml.runtime.controlprogram.ParForProgramBlock.consolidateAndCheckResults(ParForProgramBlock.java:1708)\r\n\tat org.apache.sysml.runtime.controlprogram.ParForProgramBlock.executeLocalParFor(ParForProgramBlock.java:818)\r\n\tat org.apache.sysml.runtime.controlprogram.ParForProgramBlock.execute(ParForProgramBlock.java:645)\r\n\t... 18 more\r\n",
     "output_type": "error",
     "traceback": [
      "\u001b[1;31m---------------------------------------------------------------------------\u001b[0m",
      "\u001b[1;31mPy4JJavaError\u001b[0m                             Traceback (most recent call last)",
      "\u001b[1;32m<ipython-input-110-eb44ccaef688>\u001b[0m in \u001b[0;36m<module>\u001b[1;34m()\u001b[0m\n\u001b[0;32m      7\u001b[0m                  \u001b[1;33m.\u001b[0m\u001b[0minput\u001b[0m\u001b[1;33m(\u001b[0m\u001b[1;34m\"$include_mean\"\u001b[0m\u001b[1;33m,\u001b[0m \u001b[0minclude_mean\u001b[0m\u001b[1;33m)\u001b[0m\u001b[1;33m\u001b[0m\u001b[0m\n\u001b[0;32m      8\u001b[0m                  \u001b[1;33m.\u001b[0m\u001b[0minput\u001b[0m\u001b[1;33m(\u001b[0m\u001b[1;34m\"$use_jacobi\"\u001b[0m\u001b[1;33m,\u001b[0m \u001b[0muse_jacobi\u001b[0m\u001b[1;33m)\u001b[0m\u001b[1;33m\u001b[0m\u001b[0m\n\u001b[1;32m----> 9\u001b[1;33m                  .output(\"best_point\"))  \n\u001b[0m",
      "\u001b[1;32m~\\Anaconda3\\lib\\site-packages\\systemml\\mlcontext.py\u001b[0m in \u001b[0;36mexecute\u001b[1;34m(self, script)\u001b[0m\n\u001b[0;32m    663\u001b[0m         \u001b[1;32mif\u001b[0m \u001b[0mdefault_jvm_stdout\u001b[0m\u001b[1;33m:\u001b[0m\u001b[1;33m\u001b[0m\u001b[0m\n\u001b[0;32m    664\u001b[0m             \u001b[1;32mwith\u001b[0m \u001b[0mjvm_stdout\u001b[0m\u001b[1;33m(\u001b[0m\u001b[0mparallel_flush\u001b[0m\u001b[1;33m=\u001b[0m\u001b[0mdefault_jvm_stdout_parallel_flush\u001b[0m\u001b[1;33m)\u001b[0m\u001b[1;33m:\u001b[0m\u001b[1;33m\u001b[0m\u001b[0m\n\u001b[1;32m--> 665\u001b[1;33m                 \u001b[1;32mreturn\u001b[0m \u001b[0mMLResults\u001b[0m\u001b[1;33m(\u001b[0m\u001b[0mself\u001b[0m\u001b[1;33m.\u001b[0m\u001b[0m_ml\u001b[0m\u001b[1;33m.\u001b[0m\u001b[0mexecute\u001b[0m\u001b[1;33m(\u001b[0m\u001b[0mscript_java\u001b[0m\u001b[1;33m)\u001b[0m\u001b[1;33m,\u001b[0m \u001b[0mself\u001b[0m\u001b[1;33m.\u001b[0m\u001b[0m_sc\u001b[0m\u001b[1;33m)\u001b[0m\u001b[1;33m\u001b[0m\u001b[0m\n\u001b[0m\u001b[0;32m    666\u001b[0m         \u001b[1;32melse\u001b[0m\u001b[1;33m:\u001b[0m\u001b[1;33m\u001b[0m\u001b[0m\n\u001b[0;32m    667\u001b[0m             \u001b[1;32mreturn\u001b[0m \u001b[0mMLResults\u001b[0m\u001b[1;33m(\u001b[0m\u001b[0mself\u001b[0m\u001b[1;33m.\u001b[0m\u001b[0m_ml\u001b[0m\u001b[1;33m.\u001b[0m\u001b[0mexecute\u001b[0m\u001b[1;33m(\u001b[0m\u001b[0mscript_java\u001b[0m\u001b[1;33m)\u001b[0m\u001b[1;33m,\u001b[0m \u001b[0mself\u001b[0m\u001b[1;33m.\u001b[0m\u001b[0m_sc\u001b[0m\u001b[1;33m)\u001b[0m\u001b[1;33m\u001b[0m\u001b[0m\n",
      "\u001b[1;32m~\\Desktop\\IBM\\PE_4\\SystemML\\spark-2.3.0-bin-hadoop2.7\\python\\lib\\py4j-0.10.6-src.zip\\py4j\\java_gateway.py\u001b[0m in \u001b[0;36m__call__\u001b[1;34m(self, *args)\u001b[0m\n\u001b[0;32m   1158\u001b[0m         \u001b[0manswer\u001b[0m \u001b[1;33m=\u001b[0m \u001b[0mself\u001b[0m\u001b[1;33m.\u001b[0m\u001b[0mgateway_client\u001b[0m\u001b[1;33m.\u001b[0m\u001b[0msend_command\u001b[0m\u001b[1;33m(\u001b[0m\u001b[0mcommand\u001b[0m\u001b[1;33m)\u001b[0m\u001b[1;33m\u001b[0m\u001b[0m\n\u001b[0;32m   1159\u001b[0m         return_value = get_return_value(\n\u001b[1;32m-> 1160\u001b[1;33m             answer, self.gateway_client, self.target_id, self.name)\n\u001b[0m\u001b[0;32m   1161\u001b[0m \u001b[1;33m\u001b[0m\u001b[0m\n\u001b[0;32m   1162\u001b[0m         \u001b[1;32mfor\u001b[0m \u001b[0mtemp_arg\u001b[0m \u001b[1;32min\u001b[0m \u001b[0mtemp_args\u001b[0m\u001b[1;33m:\u001b[0m\u001b[1;33m\u001b[0m\u001b[0m\n",
      "\u001b[1;32m~\\Desktop\\IBM\\PE_4\\SystemML\\spark-2.3.0-bin-hadoop2.7\\python\\pyspark\\sql\\utils.py\u001b[0m in \u001b[0;36mdeco\u001b[1;34m(*a, **kw)\u001b[0m\n\u001b[0;32m     61\u001b[0m     \u001b[1;32mdef\u001b[0m \u001b[0mdeco\u001b[0m\u001b[1;33m(\u001b[0m\u001b[1;33m*\u001b[0m\u001b[0ma\u001b[0m\u001b[1;33m,\u001b[0m \u001b[1;33m**\u001b[0m\u001b[0mkw\u001b[0m\u001b[1;33m)\u001b[0m\u001b[1;33m:\u001b[0m\u001b[1;33m\u001b[0m\u001b[0m\n\u001b[0;32m     62\u001b[0m         \u001b[1;32mtry\u001b[0m\u001b[1;33m:\u001b[0m\u001b[1;33m\u001b[0m\u001b[0m\n\u001b[1;32m---> 63\u001b[1;33m             \u001b[1;32mreturn\u001b[0m \u001b[0mf\u001b[0m\u001b[1;33m(\u001b[0m\u001b[1;33m*\u001b[0m\u001b[0ma\u001b[0m\u001b[1;33m,\u001b[0m \u001b[1;33m**\u001b[0m\u001b[0mkw\u001b[0m\u001b[1;33m)\u001b[0m\u001b[1;33m\u001b[0m\u001b[0m\n\u001b[0m\u001b[0;32m     64\u001b[0m         \u001b[1;32mexcept\u001b[0m \u001b[0mpy4j\u001b[0m\u001b[1;33m.\u001b[0m\u001b[0mprotocol\u001b[0m\u001b[1;33m.\u001b[0m\u001b[0mPy4JJavaError\u001b[0m \u001b[1;32mas\u001b[0m \u001b[0me\u001b[0m\u001b[1;33m:\u001b[0m\u001b[1;33m\u001b[0m\u001b[0m\n\u001b[0;32m     65\u001b[0m             \u001b[0ms\u001b[0m \u001b[1;33m=\u001b[0m \u001b[0me\u001b[0m\u001b[1;33m.\u001b[0m\u001b[0mjava_exception\u001b[0m\u001b[1;33m.\u001b[0m\u001b[0mtoString\u001b[0m\u001b[1;33m(\u001b[0m\u001b[1;33m)\u001b[0m\u001b[1;33m\u001b[0m\u001b[0m\n",
      "\u001b[1;32m~\\Desktop\\IBM\\PE_4\\SystemML\\spark-2.3.0-bin-hadoop2.7\\python\\lib\\py4j-0.10.6-src.zip\\py4j\\protocol.py\u001b[0m in \u001b[0;36mget_return_value\u001b[1;34m(answer, gateway_client, target_id, name)\u001b[0m\n\u001b[0;32m    318\u001b[0m                 raise Py4JJavaError(\n\u001b[0;32m    319\u001b[0m                     \u001b[1;34m\"An error occurred while calling {0}{1}{2}.\\n\"\u001b[0m\u001b[1;33m.\u001b[0m\u001b[1;33m\u001b[0m\u001b[0m\n\u001b[1;32m--> 320\u001b[1;33m                     format(target_id, \".\", name), value)\n\u001b[0m\u001b[0;32m    321\u001b[0m             \u001b[1;32melse\u001b[0m\u001b[1;33m:\u001b[0m\u001b[1;33m\u001b[0m\u001b[0m\n\u001b[0;32m    322\u001b[0m                 raise Py4JError(\n",
      "\u001b[1;31mPy4JJavaError\u001b[0m: An error occurred while calling o50.execute.\n: org.apache.sysml.api.mlcontext.MLContextException: Exception when executing script\r\n\tat org.apache.sysml.api.mlcontext.MLContext.execute(MLContext.java:346)\r\n\tat org.apache.sysml.api.mlcontext.MLContext.execute(MLContext.java:319)\r\n\tat sun.reflect.NativeMethodAccessorImpl.invoke0(Native Method)\r\n\tat sun.reflect.NativeMethodAccessorImpl.invoke(NativeMethodAccessorImpl.java:62)\r\n\tat sun.reflect.DelegatingMethodAccessorImpl.invoke(DelegatingMethodAccessorImpl.java:43)\r\n\tat java.lang.reflect.Method.invoke(Method.java:498)\r\n\tat py4j.reflection.MethodInvoker.invoke(MethodInvoker.java:244)\r\n\tat py4j.reflection.ReflectionEngine.invoke(ReflectionEngine.java:357)\r\n\tat py4j.Gateway.invoke(Gateway.java:282)\r\n\tat py4j.commands.AbstractCommand.invokeMethod(AbstractCommand.java:132)\r\n\tat py4j.commands.CallCommand.execute(CallCommand.java:79)\r\n\tat py4j.GatewayConnection.run(GatewayConnection.java:214)\r\n\tat java.lang.Thread.run(Thread.java:748)\r\nCaused by: org.apache.sysml.api.mlcontext.MLContextException: Exception occurred while executing runtime program\r\n\tat org.apache.sysml.api.mlcontext.ScriptExecutor.executeRuntimeProgram(ScriptExecutor.java:437)\r\n\tat org.apache.sysml.api.mlcontext.ScriptExecutor.execute(ScriptExecutor.java:353)\r\n\tat org.apache.sysml.api.mlcontext.MLContext.execute(MLContext.java:342)\r\n\t... 12 more\r\nCaused by: org.apache.sysml.runtime.DMLRuntimeException: org.apache.sysml.runtime.DMLRuntimeException: PARFOR: Failed to execute loop in parallel.\r\n\tat org.apache.sysml.runtime.controlprogram.Program.execute(Program.java:123)\r\n\tat org.apache.sysml.api.ScriptExecutorUtils.executeRuntimeProgram(ScriptExecutorUtils.java:97)\r\n\tat org.apache.sysml.api.ScriptExecutorUtils.executeRuntimeProgram(ScriptExecutorUtils.java:52)\r\n\tat org.apache.sysml.api.mlcontext.ScriptExecutor.executeRuntimeProgram(ScriptExecutor.java:435)\r\n\t... 14 more\r\nCaused by: org.apache.sysml.runtime.DMLRuntimeException: PARFOR: Failed to execute loop in parallel.\r\n\tat org.apache.sysml.runtime.controlprogram.ParForProgramBlock.execute(ParForProgramBlock.java:669)\r\n\tat org.apache.sysml.runtime.controlprogram.Program.execute(Program.java:116)\r\n\t... 17 more\r\nCaused by: org.apache.sysml.runtime.DMLRuntimeException: PARFOR: Number of executed tasks does not match the number of created tasks: tasks 1/3, iters 1/3.\r\n\tat org.apache.sysml.runtime.controlprogram.ParForProgramBlock.consolidateAndCheckResults(ParForProgramBlock.java:1708)\r\n\tat org.apache.sysml.runtime.controlprogram.ParForProgramBlock.executeLocalParFor(ParForProgramBlock.java:818)\r\n\tat org.apache.sysml.runtime.controlprogram.ParForProgramBlock.execute(ParForProgramBlock.java:645)\r\n\t... 18 more\r\n"
     ]
    }
   ],
   "source": [
    "res = ml.execute(dml(modifiedArima)\n",
    "                 .input(\"$src\", src)\n",
    "                 .input(\"$max_func_invoc\", max_func_invoc)\n",
    "                 .input(\"$p\", p).input(\"$d\", d).input(\"$q\", q)\n",
    "                 .input(\"$P\", P).input(\"$D\", D).input(\"$Q\", Q)\n",
    "                 .input(\"$s\", 250)\n",
    "                 .input(\"$include_mean\", include_mean)\n",
    "                 .input(\"$use_jacobi\", use_jacobi)\n",
    "                 .output(\"best_point\"))  "
   ]
  },
  {
   "cell_type": "code",
   "execution_count": null,
   "metadata": {
    "scrolled": true
   },
   "outputs": [],
   "source": [
    "arima_results = res.get('best_point').toNumPy()"
   ]
  },
  {
   "cell_type": "code",
   "execution_count": null,
   "metadata": {},
   "outputs": [],
   "source": [
    "arima_results"
   ]
  },
  {
   "cell_type": "code",
   "execution_count": 105,
   "metadata": {},
   "outputs": [],
   "source": [
    "coeff_p = []\n",
    "coeff_q = []\n",
    "coeff_P = []\n",
    "coeff_Q = []\n",
    "\n",
    "for i in range(0,p):\n",
    "    coeff_p.append(arima_results[i][0])\n",
    "\n",
    "for i in range(0,q):\n",
    "    coeff_q.append(arima_results[p + i][0])\n",
    "\n",
    "for i in range(0,P):\n",
    "    coeff_P.append(arima_results[p + q + i][0])\n",
    "\n",
    "for i in range(0,Q):\n",
    "    coeff_Q.append(arima_results[p + q + P + i][0])"
   ]
  },
  {
   "cell_type": "code",
   "execution_count": 106,
   "metadata": {},
   "outputs": [
    {
     "name": "stdout",
     "output_type": "stream",
     "text": [
      "coeff_p\n",
      "[0.03990963139432252]\n",
      "coeff_q\n",
      "[-0.19238393619700356]\n",
      "coeff_P\n",
      "[-0.03637635695871691]\n",
      "coeff_Q\n",
      "[-0.3541482316476041]\n"
     ]
    }
   ],
   "source": [
    "print (\"coeff_p\")\n",
    "print (coeff_p)\n",
    "\n",
    "print (\"coeff_q\")\n",
    "print (coeff_q)\n",
    "\n",
    "print (\"coeff_P\")\n",
    "print (coeff_P)\n",
    "\n",
    "print (\"coeff_Q\")\n",
    "print (coeff_Q)"
   ]
  },
  {
   "cell_type": "code",
   "execution_count": 78,
   "metadata": {},
   "outputs": [
    {
     "name": "stdout",
     "output_type": "stream",
     "text": [
      "diff mean: \n",
      "-0.0001552071062622311\n"
     ]
    },
    {
     "data": {
      "image/png": "[encoded data removed]",
      "text/plain": [
       "<matplotlib.figure.Figure at 0x261f4acf710>"
      ]
     },
     "metadata": {},
     "output_type": "display_data"
    },
    {
     "data": {
      "image/png": "[encoded data removed]",
      "text/plain": [
       "<matplotlib.figure.Figure at 0x261f4a93e48>"
      ]
     },
     "metadata": {},
     "output_type": "display_data"
    }
   ],
   "source": [
    "testdata = pd.read_csv(path_file_testdata, \n",
    "                 sep = \";\", na_values=[\"0\"])\n",
    "original = plt.figure()\n",
    "plt.plot(testdata)\n",
    "\n",
    "diff = plt.figure()\n",
    "diffSeries = testdata.diff()\n",
    "meanValue = diffSeries.mean()[0]\n",
    "mean = pd.DataFrame(meanValue, index=range(diffSeries.shape[0]), columns=range(1))\n",
    "plt.plot(diffSeries)\n",
    "plt.plot(mean)\n",
    "\n",
    "print(\"diff mean: \")\n",
    "print(meanValue)\n"
   ]
  },
  {
   "cell_type": "code",
   "execution_count": null,
   "metadata": {},
   "outputs": [],
   "source": []
  },
  {
   "cell_type": "code",
   "execution_count": null,
   "metadata": {},
   "outputs": [],
   "source": []
  },
  {
   "cell_type": "code",
   "execution_count": null,
   "metadata": {},
   "outputs": [],
   "source": []
  },
  {
   "cell_type": "code",
   "execution_count": null,
   "metadata": {},
   "outputs": [],
   "source": []
  }
 ],
 "metadata": {
  "kernelspec": {
   "display_name": "Python 3",
   "language": "python",
   "name": "python3"
  },
  "language_info": {
   "codemirror_mode": {
    "name": "ipython",
    "version": 3
   },
   "file_extension": ".py",
   "mimetype": "text/x-python",
   "name": "python",
   "nbconvert_exporter": "python",
   "pygments_lexer": "ipython3",
   "version": "3.7.0"
  }
 },
 "nbformat": 4,
 "nbformat_minor": 2
}
